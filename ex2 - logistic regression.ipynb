{
  "nbformat": 4,
  "nbformat_minor": 0,
  "metadata": {
    "colab": {
      "name": "ex2 - logistic regression",
      "provenance": [],
      "toc_visible": true
    },
    "kernelspec": {
      "name": "python3",
      "display_name": "Python 3"
    }
  },
  "cells": [
    {
      "cell_type": "markdown",
      "metadata": {
        "id": "K1rjF8zTWlgx"
      },
      "source": [
        "## Getting Started\n",
        "\n",
        "In this article on Logistic Regression, we will explore the following:\n",
        "1. Mathematics behind logistic regression algorithm to two-class and multi-class classification problem\n",
        "2. Implement logistic regression with TF/Keras library and apply it on Fashion MNIST database. In the implementation section, we will explore two ways to implement this algorithm.\n",
        "3. Finally, we will summarize results from the implementations.\n",
        "\n",
        "Mathematical description should be easy to follow and should help understand fundamentals of logistic regression. If you are not keen on the math, then you may proceed directly to the Implementation and Conclusion sections."
      ]
    },
    {
      "cell_type": "markdown",
      "metadata": {
        "id": "SBa4DcYD7sPp"
      },
      "source": [
        "## Classification Problems and Logistic Regression\n",
        "\n"
      ]
    },
    {
      "cell_type": "markdown",
      "metadata": {
        "id": "PF9YYOvX8JvM"
      },
      "source": [
        "Classification problems involve categorizing or assigning an input to one of the many discrete classes or labels. For instance, classifying an input image as a picture of an article of clothing, like Pant, Skirt, Jacket etc. Classification problems are different from typical regression problems in that their output classes are discrete, i.e., not continuous. In other words, Label Pant, Label Skirt, Label Jacket etc. are discrete classes. Typically, we associate a numerical ID with each class.\n",
        "\n",
        "Logistic regression is a simple algorithm applied on Classification problems. Given an observation, logistic regression classifier will compute a **probability** metric and will label the observation to a class with the highest probability.\n",
        "\n",
        "Later we will work with Fashion MNIST database which is a collection of images. Therefore, it is fair to assume that each observation is an image. Let us formalize the approach.\n",
        ""
      ]
    },
    {
      "cell_type": "markdown",
      "metadata": {
        "id": "-ZDnTi0I8M99"
      },
      "source": [
        "## Two-Class Classification Problem"
      ]
    },
    {
      "cell_type": "markdown",
      "metadata": {
        "id": "y_71RWC4J1i-"
      },
      "source": [
        "In a Two-Class Classification problem, there are two output classes, say Class 0 and Class 1. Given an observation, logistic regression will label the observation as Class 1 if the metric is greater than 0.5 else label it as Class 0.\n",
        "\n",
        "We are given a group of images and their correct class labels; this group forms the **training data**. Let $x_i$ be the $i$-th image of the tranining set and $y_i$ be the class label of the $i$-th image. Each image is a $p \\times p$ matrix, which means $x_i$ is a flattened vector with $p^2$ entries. Class label of $i$-th image takes one of two values, i.e., $0$ or $1$.\n",
        "\n",
        "The **probability** metric that an $i$-th image belongs to Class 1 is defined as:\n",
        "\\begin{equation}\n",
        "\\mathbb{P}(\\hat{y_i}=1 | x_i, \\beta) = \\frac{e^{\\beta^{T}x_i}}{1+ e^{\\beta^{T}x_i}}=p_i\n",
        "\\end{equation}\n",
        "Since there are only two classes, the probability metric that the image belongs to Class 0 is:\n",
        "\\begin{equation}\n",
        "\\mathbb{P}(\\hat{y_i}=0 | x_i, \\beta) = 1-\\mathbb{P}(\\hat{y_i}=1 | x_i, \\beta) = 1- p_i = q_i\n",
        "\\end{equation}\n",
        "\n",
        "Let us understand the above formulation a little better:\n",
        "\n",
        "1. The metric $\\mathbb{P}(\\hat{y_i}=1 | x_i, \\beta)$ **[sigmoid function](https://en.wikipedia.org/wiki/Sigmoid_function)** which takes on values between 0 and 1. Note that  $\\mathbb{P}(\\hat{y_i}=1 | x_i, \\beta)$ and $\\mathbb{P}(\\hat{y_i}=0 | x_i, \\beta)$ adds up to 1.\n",
        "2.$\\beta$ is a vector with $p^2$ entries, same as any $x_i$. $\\beta$ is the vector we hope to **learn** by training our network on the set of input images and their associated ground-truth labels.\n",
        "3. Keen readers would have noticed we have one parameter vector $\\beta$ for two classes. For a problem with $k$ classes, $k-1$ $\\beta$(s) are sufficient. This makes sense because the probability of belonging to the $k$-th class is simply one minus the sum of probabilities of belonging to all other classes.\n",
        "\n",
        "Let us understand decision boundary of the classifier:\n",
        "\n",
        "As mentioned earlier, an image is labeled as Class 1 if the probability metric is 0.5 or greater. In a spatial sense, classifier (after training) would have arrived at a $\\beta$ that will put all images belonging to Class 1 on one side of the $p=0.5$ boundary and the rest on the other side. Therefore, $p=0.5$ defines a **decision** boundary.\n",
        "\n",
        "\\begin{equation}\n",
        "\\mathbb{P}(\\hat{y_i}=1 | x_i, \\beta) = 0.5 \\\\\n",
        "\\implies \\frac{e^{\\beta^{T}x_i}}{1+ e^{\\beta^{T}x_i}} =0.5 \\\\\n",
        "\\implies e^{\\beta^{T}x_i} = 1 \\\\\n",
        "\\implies \\beta^{T}x_i =0\n",
        "\\end{equation}\n",
        "\n",
        " The equation $\\beta^{T}x_i =0$ is a hyperplane (in two dimensional space, it is a simple line) that divides the two classes of images; images on one side of this hyperplane belong to Class-0 and images on the other size of this hyperplane belong to Class-1.\n",
        "\n",
        " In other words, logistic regression tries to create **linear** boundaries in a $p^2$ dimensional space. We will revisit decision boundary later in the discussion.\n",
        "\n",
        "\n",
        "### Estimate $\\beta$ coefficients (Training Phase)\n",
        "\n",
        "In training phase, we use $n$ images and their corresponding class labels to train or estimate *good* $\\beta$ coefficients. Since we are working with probability metric, it is natural to use the **likelihood** objective function ($L(\\beta)$):\n",
        "\\begin{equation}\n",
        "L(\\beta) = \\prod_{k=1}^{n} \\mathbb{P}(Y_i = y_i | x_i, \\beta)\n",
        "\\end{equation}\n",
        "\n",
        "Let us understand the above formulation a little better:\n",
        "1. There are $n$ terms within the product above and each of the term corresponds to an image in the training set.\n",
        "2. For each image in the training set, we know the ground truth or the class label-note we are given that information. If $i$-th image belongs to Class 1 (as per ground truth), then use $p$ for the $i$-th entry in the product above. The objective function thus formed is the **likelihood** objective function.\n",
        "3. Intuitively, we would want to estimate $\\beta$ that maximizes the likelihood objective function.\n",
        "\n",
        "An iterative optimization algorithm may be used to achieve this maximization, for instance, **weighted least-squares regression** is one such algorithm.\n",
        "\n",
        "### Implementation Details\n",
        "\n",
        "We will continue to explore the $L(\\beta)$ formulation for the Two-Class problem further to familiarize with some nifty implementational details. If you have read other materials on logistic regression, you might have come across **cross entropy with logits**. I will try to explain how this fits into logistic regression:\n",
        "\n",
        "In a Two-Class problem, $y_i$(s) take on value of $1$ or $0$, and so we can re-write the above equation:\n",
        "\n",
        "\\begin{equation}\n",
        "L(\\beta) = \\prod_{i=1}^{n} \\mathbb{P}(Y_i = 0 | x_i, \\beta)^{1-y_i} \\mathbb{P}(Y_i = 1 | x_i, \\beta)^{y_i} \\\\\n",
        "= \\prod_{i=1}^{n} q_i^{1-y_i}p_i^{y_i}\n",
        "\\end{equation}\n",
        "\n",
        "Clever part of the rewrite is that $i$-th term of the product is $q_i$ if $y_i=0$ else it is $p_i$. For convenience, we will work with **logarithm** of the cost function, often referred to as **log likelihood** objective function:\n",
        "\\begin{equation}\n",
        "l(\\beta) = \\log(L(\\beta)) = \\sum_{i=1}^{n}(1-y_i)\\log(q_i) + y_i \\log(p_i)\\\\\n",
        "= \\sum_{i=1}^{n} \\log(q_i) + y_i \\log(\\frac{p_i}{q_i})\n",
        "\\end{equation}\n",
        "\n",
        "Let us understand the formulation a little better:\n",
        "1. The term $\\log(\\frac{p_i}{q_i})$ is often referred to as **logit** of $p_i$.\n",
        "2.  The $i$-term in the summation is referred to as **cross-entropy with logits**, cross-entropy with logits refer to how the appropriate $p$ or $q$ is picked based on class label of the $i$-th term.\n",
        "\n",
        "### Discussion\n",
        "\n",
        "We had shown that logistic regression creates linear boundaries to separate (in this case) the two classes. But not all classification problems will be so well-behaved, i.e., linear boundaries may not be sufficient to separate the two classes.\n",
        "\n",
        "Imagine a classification problem where Class-0 is every example within a unit circle (or sphere) and Class-1 is every example outside a unit circle (or sphere). Naturally, classification using linear boundaries **will not work** for this example. When faced with such classification problems, transforming input elements $x_i$ may help transform complex decision boundaries to those classifiable with linear boundaries. By the way, there is no guarantee we can find a transformation to achieve this."
      ]
    },
    {
      "cell_type": "markdown",
      "metadata": {
        "id": "xyNLnBEG8Vxv"
      },
      "source": [
        "## Multi-Class Classification Problem"
      ]
    },
    {
      "cell_type": "markdown",
      "metadata": {
        "id": "ToCtdKi-qu-O"
      },
      "source": [
        "In a Multi-Class Classification problem, there are $K$ possible class labels and the formalization is an extension of the Two-Class Classification problem.\n",
        "\n",
        "The **probability** metric that an $i$-th image belongs to Class-$k$, where $0 \\leq k < K-1$, is defined as:\n",
        "\\begin{equation}\n",
        "\\mathbb{P}(\\hat{y_i}=k | x_i, \\beta) = \\frac{e^{\\beta_{k}^{T}x_i}}{1+ e^{\\beta_{k}^{T}x_i}}=p_{i,k}\n",
        "\\end{equation}\n",
        "\n",
        "Let us understand the above formulation a little better:\n",
        "1. There are $K-1$ $\\beta$(s), i.e., one each for $K-1$ of the $K$ classes.\n",
        "2. Note that $k$ goes from $0$ to $K-2$ and not $K-1$. This is so because $\\mathbb{P}(\\hat{y_i}=K-1 | x_i, \\beta) = 1 - (p_0+p_1+...+p_{K-2})$.\n",
        "\n",
        "Skipping some of the steps detailed in the Two-Class classification problem, let us review the forumulation for $l(\\beta)$:\n",
        "\\begin{equation}\n",
        "l(\\beta) = \\log(L(\\beta)) = \\sum_{i=1}^{n}\n",
        "[\n",
        "\\begin{array}{ccccc}\n",
        "\\log(p_{i,0}), \\log(p_{i,1}), \\log(p_{i,2}), ... , \\log(p_{i,K-1})\n",
        "\\end{array}\n",
        "]\n",
        "\\left[\n",
        "\\begin{array}{c}\n",
        "0 \\\\\n",
        "0 \\\\\n",
        ". \\\\\n",
        "1 \\\\\n",
        ". \\\\\n",
        "0\n",
        "\\end{array}\n",
        "\\right]\n",
        "\\end{equation}\n",
        "\n",
        "Let us understand the above formulation a little better:\n",
        "1. The summation is over all images in the training set, in this case $n$ such images.\n",
        "2. For an $i$-th image, i.e., a term within the summation, a dot product is computed between probability vector and **one-hot** vector.\n",
        "3. The **one-hot** vector for the $i$-th image is $1$ only at $k$-th entry, i.e., $i$-th image belongs to Class-$k$.\n",
        "4. The probability vector is the vector of probabilities computed for each class based on the probability formulation above.\n",
        "5. The dot product simply picks one element from the probability vector. Same as above, this is referred to as **cross-etropy with logits**.\n",
        "\n",
        "Finally, all $\\beta_{k}$(s) are estimated as part of the training phase by optimizing, i.e., minimizing or maximizing, an objective function.\n"
      ]
    },
    {
      "cell_type": "markdown",
      "metadata": {
        "id": "xMXa4U6c1x0x"
      },
      "source": [
        "## Logistic Regression with TF/Keras Library\n",
        "\n",
        "In this section, we will implement logistic regression and apply on Fashion MNIST database. The database contains images of articles of clothing and the task is to classify these images as one of a select number of labels. Training set contains $60000$ images and Test set contains $10000$ images. There are a total of $10$ class labels. Each image is a $28 \\times 28$ matrix of pixel values."
      ]
    },
    {
      "cell_type": "code",
      "metadata": {
        "id": "MK5vxrwqWuN3"
      },
      "source": [
        "import numpy as np\n",
        "import tensorflow as tf\n",
        "import matplotlib.pyplot as plt"
      ],
      "execution_count": 1,
      "outputs": []
    },
    {
      "cell_type": "code",
      "metadata": {
        "id": "TeoZXFyY2EdY",
        "outputId": "d6e82c09-eb3b-450d-c7a0-4bc5c8429545",
        "colab": {
          "base_uri": "https://localhost:8080/"
        }
      },
      "source": [
        "# Download Fashion MNIST data\n",
        "from tensorflow import keras\n",
        "fashion_mnist = keras.datasets.fashion_mnist\n",
        "(trImages, trLabels), (tImages, tLabels) = fashion_mnist.load_data()"
      ],
      "execution_count": 2,
      "outputs": [
        {
          "output_type": "stream",
          "name": "stdout",
          "text": [
            "Downloading data from https://storage.googleapis.com/tensorflow/tf-keras-datasets/train-labels-idx1-ubyte.gz\n",
            "\u001b[1m29515/29515\u001b[0m \u001b[32m━━━━━━━━━━━━━━━━━━━━\u001b[0m\u001b[37m\u001b[0m \u001b[1m0s\u001b[0m 0us/step\n",
            "Downloading data from https://storage.googleapis.com/tensorflow/tf-keras-datasets/train-images-idx3-ubyte.gz\n",
            "\u001b[1m26421880/26421880\u001b[0m \u001b[32m━━━━━━━━━━━━━━━━━━━━\u001b[0m\u001b[37m\u001b[0m \u001b[1m0s\u001b[0m 0us/step\n",
            "Downloading data from https://storage.googleapis.com/tensorflow/tf-keras-datasets/t10k-labels-idx1-ubyte.gz\n",
            "\u001b[1m5148/5148\u001b[0m \u001b[32m━━━━━━━━━━━━━━━━━━━━\u001b[0m\u001b[37m\u001b[0m \u001b[1m0s\u001b[0m 0us/step\n",
            "Downloading data from https://storage.googleapis.com/tensorflow/tf-keras-datasets/t10k-images-idx3-ubyte.gz\n",
            "\u001b[1m4422102/4422102\u001b[0m \u001b[32m━━━━━━━━━━━━━━━━━━━━\u001b[0m\u001b[37m\u001b[0m \u001b[1m0s\u001b[0m 0us/step\n"
          ]
        }
      ]
    },
    {
      "cell_type": "code",
      "metadata": {
        "id": "rBPqXMelSxU7",
        "colab": {
          "base_uri": "https://localhost:8080/"
        },
        "outputId": "3b767219-c7d0-4583-d7e7-b1b8f2c4b9f1"
      },
      "source": [
        "print(np.shape(trImages))\n",
        "print(np.shape(tImages))\n",
        "print(np.max(trImages[0]))\n",
        "print(np.min(trImages[0]))"
      ],
      "execution_count": 3,
      "outputs": [
        {
          "output_type": "stream",
          "name": "stdout",
          "text": [
            "(60000, 28, 28)\n",
            "(10000, 28, 28)\n",
            "255\n",
            "0\n"
          ]
        }
      ]
    },
    {
      "cell_type": "markdown",
      "metadata": {
        "id": "jzcv_wRzT-Ap"
      },
      "source": [
        "### Single-Layer Implementation\n",
        "\n",
        "Single-layer implementation of logistic regression follows the discussion above. There is an input layer where each image is flattened into a vector of $28 \\times 28 = 784$ elements and fed into a **Softmax** layer. Output of softmax layer are probabilities of the image belonging to one of the possible $10$ class labels.\n",
        "\n",
        "One may wonder why we use **Softmax** instead of **Sigmoid** formulation used in the formalization above. We will revisit this later in the discussion."
      ]
    },
    {
      "cell_type": "code",
      "metadata": {
        "id": "NyioMvtnBNY7"
      },
      "source": [
        "# Training Parameters\n",
        "batchSize = 128\n",
        "nEpochs = 50"
      ],
      "execution_count": 4,
      "outputs": []
    },
    {
      "cell_type": "markdown",
      "metadata": {
        "id": "luWf-06-9tFC"
      },
      "source": [
        "In the code snippet below, we do the following:\n",
        "\n",
        "\n",
        "1.   Defining a Sequential network model using Keras library\n",
        "2.   Input images are flattened in the input layer and fed to subsequent layer\n",
        "3.   Layer1 has 10 units whose activation function is **Softmax**\n",
        "4.   Loss function is Sparse_Categorical_CrossEntropy\n",
        "5.   Adam optimizer is used to minimize the above loss function during the training phase\n",
        "\n",
        "A block diagram of the network shows dimensions of the various layers."
      ]
    },
    {
      "cell_type": "code",
      "source": [
        "trImages[1]"
      ],
      "metadata": {
        "id": "lWFMHBzwx_je",
        "outputId": "42110a41-c9d8-49d0-a513-ac088aa1b9f1",
        "colab": {
          "base_uri": "https://localhost:8080/",
          "height": 68
        }
      },
      "execution_count": 8,
      "outputs": [
        {
          "output_type": "execute_result",
          "data": {
            "text/plain": [
              "array([[  0,   0,   0,   0,   0,   1,   0,   0,   0,   0,  41, 188, 103,\n",
              "         54,  48,  43,  87, 168, 133,  16,   0,   0,   0,   0,   0,   0,\n",
              "          0,   0],\n",
              "       [  0,   0,   0,   1,   0,   0,   0,  49, 136, 219, 216, 228, 236,\n",
              "        255, 255, 255, 255, 217, 215, 254, 231, 160,  45,   0,   0,   0,\n",
              "          0,   0],\n",
              "       [  0,   0,   0,   0,   0,  14, 176, 222, 224, 212, 203, 198, 196,\n",
              "        200, 215, 204, 202, 201, 201, 201, 209, 218, 224, 164,   0,   0,\n",
              "          0,   0],\n",
              "       [  0,   0,   0,   0,   0, 188, 219, 200, 198, 202, 198, 199, 199,\n",
              "        201, 196, 198, 198, 200, 200, 200, 200, 201, 200, 225,  41,   0,\n",
              "          0,   0],\n",
              "       [  0,   0,   0,   0,  51, 219, 199, 203, 203, 212, 238, 248, 250,\n",
              "        245, 249, 246, 247, 252, 248, 235, 207, 203, 203, 222, 140,   0,\n",
              "          0,   0],\n",
              "       [  0,   0,   0,   0, 116, 226, 206, 204, 207, 204, 101,  75,  47,\n",
              "         73,  48,  50,  45,  51,  63, 113, 222, 202, 206, 220, 224,   0,\n",
              "          0,   0],\n",
              "       [  0,   0,   0,   0, 200, 222, 209, 203, 215, 200,   0,  70,  98,\n",
              "          0, 103,  59,  68,  71,  49,   0, 219, 206, 214, 210, 250,  38,\n",
              "          0,   0],\n",
              "       [  0,   0,   0,   0, 247, 218, 212, 210, 215, 214,   0, 254, 243,\n",
              "        139, 255, 174, 251, 255, 205,   0, 215, 217, 214, 208, 220,  95,\n",
              "          0,   0],\n",
              "       [  0,   0,   0,  45, 226, 214, 214, 215, 224, 205,   0,  42,  35,\n",
              "         60,  16,  17,  12,  13,  70,   0, 189, 216, 212, 206, 212, 156,\n",
              "          0,   0],\n",
              "       [  0,   0,   0, 164, 235, 214, 211, 220, 216, 201,  52,  71,  89,\n",
              "         94,  83,  78,  70,  76,  92,  87, 206, 207, 222, 213, 219, 208,\n",
              "          0,   0],\n",
              "       [  0,   0,   0, 106, 187, 223, 237, 248, 211, 198, 252, 250, 248,\n",
              "        245, 248, 252, 253, 250, 252, 239, 201, 212, 225, 215, 193, 113,\n",
              "          0,   0],\n",
              "       [  0,   0,   0,   0,   0,  17,  54, 159, 222, 193, 208, 192, 197,\n",
              "        200, 200, 200, 200, 201, 203, 195, 210, 165,   0,   0,   0,   0,\n",
              "          0,   0],\n",
              "       [  0,   0,   0,   0,   0,   0,   0,  47, 225, 192, 214, 203, 206,\n",
              "        204, 204, 205, 206, 204, 212, 197, 218, 107,   0,   0,   0,   0,\n",
              "          0,   0],\n",
              "       [  0,   0,   0,   0,   1,   6,   0,  46, 212, 195, 212, 202, 206,\n",
              "        205, 204, 205, 206, 204, 212, 200, 218,  91,   0,   3,   1,   0,\n",
              "          0,   0],\n",
              "       [  0,   0,   0,   0,   0,   1,   0,  11, 197, 199, 205, 202, 205,\n",
              "        206, 204, 205, 207, 204, 205, 205, 218,  77,   0,   5,   0,   0,\n",
              "          0,   0],\n",
              "       [  0,   0,   0,   0,   0,   3,   0,   2, 191, 198, 201, 205, 206,\n",
              "        205, 205, 206, 209, 206, 199, 209, 219,  74,   0,   5,   0,   0,\n",
              "          0,   0],\n",
              "       [  0,   0,   0,   0,   0,   2,   0,   0, 188, 197, 200, 207, 207,\n",
              "        204, 207, 207, 210, 208, 198, 207, 221,  72,   0,   4,   0,   0,\n",
              "          0,   0],\n",
              "       [  0,   0,   0,   0,   0,   2,   0,   0, 215, 198, 203, 206, 208,\n",
              "        205, 207, 207, 210, 208, 200, 202, 222,  75,   0,   4,   0,   0,\n",
              "          0,   0],\n",
              "       [  0,   0,   0,   0,   0,   1,   0,   0, 212, 198, 209, 206, 209,\n",
              "        206, 208, 207, 211, 206, 205, 198, 221,  80,   0,   3,   0,   0,\n",
              "          0,   0],\n",
              "       [  0,   0,   0,   0,   0,   1,   0,   0, 204, 201, 205, 208, 207,\n",
              "        205, 211, 205, 210, 210, 209, 195, 221,  96,   0,   3,   0,   0,\n",
              "          0,   0],\n",
              "       [  0,   0,   0,   0,   0,   1,   0,   0, 202, 201, 205, 209, 207,\n",
              "        205, 213, 206, 210, 209, 210, 194, 217, 105,   0,   2,   0,   0,\n",
              "          0,   0],\n",
              "       [  0,   0,   0,   0,   0,   1,   0,   0, 204, 204, 205, 208, 207,\n",
              "        205, 215, 207, 210, 208, 211, 193, 213, 115,   0,   2,   0,   0,\n",
              "          0,   0],\n",
              "       [  0,   0,   0,   0,   0,   0,   0,   0, 204, 207, 207, 208, 206,\n",
              "        206, 215, 210, 210, 207, 212, 195, 210, 118,   0,   2,   0,   0,\n",
              "          0,   0],\n",
              "       [  0,   0,   0,   0,   0,   1,   0,   0, 198, 208, 208, 208, 204,\n",
              "        207, 212, 212, 210, 207, 211, 196, 207, 121,   0,   1,   0,   0,\n",
              "          0,   0],\n",
              "       [  0,   0,   0,   0,   0,   1,   0,   0, 198, 210, 207, 208, 206,\n",
              "        209, 213, 212, 211, 207, 210, 197, 207, 124,   0,   1,   0,   0,\n",
              "          0,   0],\n",
              "       [  0,   0,   0,   0,   0,   0,   0,   0, 172, 210, 203, 201, 199,\n",
              "        204, 207, 205, 204, 201, 205, 197, 206, 127,   0,   0,   0,   0,\n",
              "          0,   0],\n",
              "       [  0,   0,   0,   0,   0,   0,   0,   0, 188, 221, 214, 234, 236,\n",
              "        238, 244, 244, 244, 240, 243, 214, 224, 162,   0,   2,   0,   0,\n",
              "          0,   0],\n",
              "       [  0,   0,   0,   0,   0,   1,   0,   0, 139, 146, 130, 135, 135,\n",
              "        137, 125, 124, 125, 121, 119, 114, 130,  76,   0,   0,   0,   0,\n",
              "          0,   0]], dtype=uint8)"
            ],
            "text/html": [
              "<style>\n",
              "      .ndarray_repr .ndarray_raw_data {\n",
              "        display: none;\n",
              "      }\n",
              "      .ndarray_repr.show_array .ndarray_raw_data {\n",
              "        display: block;\n",
              "      }\n",
              "      .ndarray_repr.show_array .ndarray_image_preview {\n",
              "        display: none;\n",
              "      }\n",
              "      </style>\n",
              "      <div id=\"id-70358774-c147-46bf-93ac-64e1c6bdb6c3\" class=\"ndarray_repr\"><pre>ndarray (28, 28) <button style=\"padding: 0 2px;\">show data</button></pre><img src=\"data:image/png;base64,iVBORw0KGgoAAAANSUhEUgAAABwAAAAcCAAAAABXZoBIAAAB90lEQVR4nF2QvWvTURSGn3PuTUwaSVMtlLZDBT+g0CragnQQwcnFQRAcdHNy0KngXyAIDg5O4qKuDrrp4ChFOthBsNrSxZZ0MMXYD5tffvfe45CkX2d9eF7e9wgAYsD487cL7Xzi5srTJvsnwMUnyz/WGmZmPxfT+qvJPQDVN+d1ezdPvn8nGZTKxc939+CnsY3kg6C5ooDY8PVF8ABTYw3vyiN9mvsohbC1Foj3Zrvm7MNGcvFFfW1kXfPi8UsPGr7qT4EC3ArOSuFlPvXhcnlocPNZ9KV/I+e6sRdW3TGqfNwZn313w3+dCpWYfs0s4YHJ30FdeYOJbPix5DJDfTSl1pXXeOBReTuWW2H65InCUN4q1m4P7PZLcboTOzd0plpZjl9Sis5L1K2litP6+97OgbP3r672NwsOEG31f7sDdAvxZz67ZsWKS4ikUrs01/mrAkgR23LJujmOJk560HJW/voMExCyApuo9SDKbtuCExNRbXuJB2IxUjRTMRVRS5qwfQiMijMRAM3FHTaJFBERJBWCFY6YLRc0mUvmfaR20AQSCKhgYqHcMX0PKlgHqoU+DnzIAAcmOEw0Hiok0BYhSVQwie5IIdRQFaTjH55SJ2RZ3s6ydo65I4VqFT+oWoTgVvtOo2kPirHwvVlAt01CymvzJID/CjnVF438ZwEAAAAASUVORK5CYII=\" class=\"ndarray_image_preview\" /><pre class=\"ndarray_raw_data\">array([[  0,   0,   0,   0,   0,   1,   0,   0,   0,   0,  41, 188, 103,\n",
              "         54,  48,  43,  87, 168, 133,  16,   0,   0,   0,   0,   0,   0,\n",
              "          0,   0],\n",
              "       [  0,   0,   0,   1,   0,   0,   0,  49, 136, 219, 216, 228, 236,\n",
              "        255, 255, 255, 255, 217, 215, 254, 231, 160,  45,   0,   0,   0,\n",
              "          0,   0],\n",
              "       [  0,   0,   0,   0,   0,  14, 176, 222, 224, 212, 203, 198, 196,\n",
              "        200, 215, 204, 202, 201, 201, 201, 209, 218, 224, 164,   0,   0,\n",
              "          0,   0],\n",
              "       [  0,   0,   0,   0,   0, 188, 219, 200, 198, 202, 198, 199, 199,\n",
              "        201, 196, 198, 198, 200, 200, 200, 200, 201, 200, 225,  41,   0,\n",
              "          0,   0],\n",
              "       [  0,   0,   0,   0,  51, 219, 199, 203, 203, 212, 238, 248, 250,\n",
              "        245, 249, 246, 247, 252, 248, 235, 207, 203, 203, 222, 140,   0,\n",
              "          0,   0],\n",
              "       [  0,   0,   0,   0, 116, 226, 206, 204, 207, 204, 101,  75,  47,\n",
              "         73,  48,  50,  45,  51,  63, 113, 222, 202, 206, 220, 224,   0,\n",
              "          0,   0],\n",
              "       [  0,   0,   0,   0, 200, 222, 209, 203, 215, 200,   0,  70,  98,\n",
              "          0, 103,  59,  68,  71,  49,   0, 219, 206, 214, 210, 250,  38,\n",
              "          0,   0],\n",
              "       [  0,   0,   0,   0, 247, 218, 212, 210, 215, 214,   0, 254, 243,\n",
              "        139, 255, 174, 251, 255, 205,   0, 215, 217, 214, 208, 220,  95,\n",
              "          0,   0],\n",
              "       [  0,   0,   0,  45, 226, 214, 214, 215, 224, 205,   0,  42,  35,\n",
              "         60,  16,  17,  12,  13,  70,   0, 189, 216, 212, 206, 212, 156,\n",
              "          0,   0],\n",
              "       [  0,   0,   0, 164, 235, 214, 211, 220, 216, 201,  52,  71,  89,\n",
              "         94,  83,  78,  70,  76,  92,  87, 206, 207, 222, 213, 219, 208,\n",
              "          0,   0],\n",
              "       [  0,   0,   0, 106, 187, 223, 237, 248, 211, 198, 252, 250, 248,\n",
              "        245, 248, 252, 253, 250, 252, 239, 201, 212, 225, 215, 193, 113,\n",
              "          0,   0],\n",
              "       [  0,   0,   0,   0,   0,  17,  54, 159, 222, 193, 208, 192, 197,\n",
              "        200, 200, 200, 200, 201, 203, 195, 210, 165,   0,   0,   0,   0,\n",
              "          0,   0],\n",
              "       [  0,   0,   0,   0,   0,   0,   0,  47, 225, 192, 214, 203, 206,\n",
              "        204, 204, 205, 206, 204, 212, 197, 218, 107,   0,   0,   0,   0,\n",
              "          0,   0],\n",
              "       [  0,   0,   0,   0,   1,   6,   0,  46, 212, 195, 212, 202, 206,\n",
              "        205, 204, 205, 206, 204, 212, 200, 218,  91,   0,   3,   1,   0,\n",
              "          0,   0],\n",
              "       [  0,   0,   0,   0,   0,   1,   0,  11, 197, 199, 205, 202, 205,\n",
              "        206, 204, 205, 207, 204, 205, 205, 218,  77,   0,   5,   0,   0,\n",
              "          0,   0],\n",
              "       [  0,   0,   0,   0,   0,   3,   0,   2, 191, 198, 201, 205, 206,\n",
              "        205, 205, 206, 209, 206, 199, 209, 219,  74,   0,   5,   0,   0,\n",
              "          0,   0],\n",
              "       [  0,   0,   0,   0,   0,   2,   0,   0, 188, 197, 200, 207, 207,\n",
              "        204, 207, 207, 210, 208, 198, 207, 221,  72,   0,   4,   0,   0,\n",
              "          0,   0],\n",
              "       [  0,   0,   0,   0,   0,   2,   0,   0, 215, 198, 203, 206, 208,\n",
              "        205, 207, 207, 210, 208, 200, 202, 222,  75,   0,   4,   0,   0,\n",
              "          0,   0],\n",
              "       [  0,   0,   0,   0,   0,   1,   0,   0, 212, 198, 209, 206, 209,\n",
              "        206, 208, 207, 211, 206, 205, 198, 221,  80,   0,   3,   0,   0,\n",
              "          0,   0],\n",
              "       [  0,   0,   0,   0,   0,   1,   0,   0, 204, 201, 205, 208, 207,\n",
              "        205, 211, 205, 210, 210, 209, 195, 221,  96,   0,   3,   0,   0,\n",
              "          0,   0],\n",
              "       [  0,   0,   0,   0,   0,   1,   0,   0, 202, 201, 205, 209, 207,\n",
              "        205, 213, 206, 210, 209, 210, 194, 217, 105,   0,   2,   0,   0,\n",
              "          0,   0],\n",
              "       [  0,   0,   0,   0,   0,   1,   0,   0, 204, 204, 205, 208, 207,\n",
              "        205, 215, 207, 210, 208, 211, 193, 213, 115,   0,   2,   0,   0,\n",
              "          0,   0],\n",
              "       [  0,   0,   0,   0,   0,   0,   0,   0, 204, 207, 207, 208, 206,\n",
              "        206, 215, 210, 210, 207, 212, 195, 210, 118,   0,   2,   0,   0,\n",
              "          0,   0],\n",
              "       [  0,   0,   0,   0,   0,   1,   0,   0, 198, 208, 208, 208, 204,\n",
              "        207, 212, 212, 210, 207, 211, 196, 207, 121,   0,   1,   0,   0,\n",
              "          0,   0],\n",
              "       [  0,   0,   0,   0,   0,   1,   0,   0, 198, 210, 207, 208, 206,\n",
              "        209, 213, 212, 211, 207, 210, 197, 207, 124,   0,   1,   0,   0,\n",
              "          0,   0],\n",
              "       [  0,   0,   0,   0,   0,   0,   0,   0, 172, 210, 203, 201, 199,\n",
              "        204, 207, 205, 204, 201, 205, 197, 206, 127,   0,   0,   0,   0,\n",
              "          0,   0],\n",
              "       [  0,   0,   0,   0,   0,   0,   0,   0, 188, 221, 214, 234, 236,\n",
              "        238, 244, 244, 244, 240, 243, 214, 224, 162,   0,   2,   0,   0,\n",
              "          0,   0],\n",
              "       [  0,   0,   0,   0,   0,   1,   0,   0, 139, 146, 130, 135, 135,\n",
              "        137, 125, 124, 125, 121, 119, 114, 130,  76,   0,   0,   0,   0,\n",
              "          0,   0]], dtype=uint8)</pre></div><script>\n",
              "      (() => {\n",
              "      const titles = ['show data', 'hide data'];\n",
              "      let index = 0\n",
              "      document.querySelector('#id-70358774-c147-46bf-93ac-64e1c6bdb6c3 button').onclick = (e) => {\n",
              "        document.querySelector('#id-70358774-c147-46bf-93ac-64e1c6bdb6c3').classList.toggle('show_array');\n",
              "        index = (++index) % 2;\n",
              "        document.querySelector('#id-70358774-c147-46bf-93ac-64e1c6bdb6c3 button').textContent = titles[index];\n",
              "        e.preventDefault();\n",
              "        e.stopPropagation();\n",
              "      }\n",
              "      })();\n",
              "    </script>"
            ]
          },
          "metadata": {},
          "execution_count": 8
        }
      ]
    },
    {
      "cell_type": "code",
      "metadata": {
        "id": "jKkG_yPG2eWV",
        "outputId": "e6856202-b180-4c86-8d96-3fe0d4254bb0",
        "colab": {
          "base_uri": "https://localhost:8080/",
          "height": 661
        }
      },
      "source": [
        "# Building a feed-forward network\n",
        "model = tf.keras.Sequential() # empty model\n",
        "\n",
        "# Layer0 simply flattens image input\n",
        "layer0 = tf.keras.layers.Flatten(input_shape=np.shape(trImages[0]), name='Images')\n",
        "model.add(layer0)\n",
        "\n",
        "# Layer1 is the output layer\n",
        "numUnits_L1 = 10\n",
        "layer1 = tf.keras.layers.Dense(units=numUnits_L1, activation=tf.nn.softmax, use_bias=True, name='Logistic')\n",
        "model.add(layer1)\n",
        "\n",
        "# Compile model\n",
        "model.compile(optimizer='adam', loss='sparse_categorical_crossentropy', metrics=['accuracy']) #'sparse_categorical_crossentropy'\n",
        "\n",
        "# Plot Logistic Regression Network\n",
        "tf.keras.utils.plot_model(model,show_shapes=True,show_layer_names=True)"
      ],
      "execution_count": 9,
      "outputs": [
        {
          "output_type": "stream",
          "name": "stderr",
          "text": [
            "/usr/local/lib/python3.10/dist-packages/keras/src/layers/reshaping/flatten.py:37: UserWarning: Do not pass an `input_shape`/`input_dim` argument to a layer. When using Sequential models, prefer using an `Input(shape)` object as the first layer in the model instead.\n",
            "  super().__init__(**kwargs)\n"
          ]
        },
        {
          "output_type": "execute_result",
          "data": {
            "image/png": "[encoded data removed]",
            "text/plain": [
              "<IPython.core.display.Image object>"
            ]
          },
          "metadata": {},
          "execution_count": 9
        }
      ]
    },
    {
      "cell_type": "code",
      "source": [
        "model.summary()"
      ],
      "metadata": {
        "id": "rnZhoMSDzet4",
        "outputId": "59c6dec9-63aa-420c-c2c6-9a68b09254ea",
        "colab": {
          "base_uri": "https://localhost:8080/",
          "height": 221
        }
      },
      "execution_count": 13,
      "outputs": [
        {
          "output_type": "display_data",
          "data": {
            "text/plain": [
              "\u001b[1mModel: \"sequential\"\u001b[0m\n"
            ],
            "text/html": [
              "<pre style=\"white-space:pre;overflow-x:auto;line-height:normal;font-family:Menlo,'DejaVu Sans Mono',consolas,'Courier New',monospace\"><span style=\"font-weight: bold\">Model: \"sequential\"</span>\n",
              "</pre>\n"
            ]
          },
          "metadata": {}
        },
        {
          "output_type": "display_data",
          "data": {
            "text/plain": [
              "┏━━━━━━━━━━━━━━━━━━━━━━━━━━━━━━━━━━━━━━┳━━━━━━━━━━━━━━━━━━━━━━━━━━━━━┳━━━━━━━━━━━━━━━━━┓\n",
              "┃\u001b[1m \u001b[0m\u001b[1mLayer (type)                        \u001b[0m\u001b[1m \u001b[0m┃\u001b[1m \u001b[0m\u001b[1mOutput Shape               \u001b[0m\u001b[1m \u001b[0m┃\u001b[1m \u001b[0m\u001b[1m        Param #\u001b[0m\u001b[1m \u001b[0m┃\n",
              "┡━━━━━━━━━━━━━━━━━━━━━━━━━━━━━━━━━━━━━━╇━━━━━━━━━━━━━━━━━━━━━━━━━━━━━╇━━━━━━━━━━━━━━━━━┩\n",
              "│ Images (\u001b[38;5;33mFlatten\u001b[0m)                     │ (\u001b[38;5;45mNone\u001b[0m, \u001b[38;5;34m784\u001b[0m)                 │               \u001b[38;5;34m0\u001b[0m │\n",
              "├──────────────────────────────────────┼─────────────────────────────┼─────────────────┤\n",
              "│ Logistic (\u001b[38;5;33mDense\u001b[0m)                     │ (\u001b[38;5;45mNone\u001b[0m, \u001b[38;5;34m10\u001b[0m)                  │           \u001b[38;5;34m7,850\u001b[0m │\n",
              "└──────────────────────────────────────┴─────────────────────────────┴─────────────────┘\n"
            ],
            "text/html": [
              "<pre style=\"white-space:pre;overflow-x:auto;line-height:normal;font-family:Menlo,'DejaVu Sans Mono',consolas,'Courier New',monospace\">┏━━━━━━━━━━━━━━━━━━━━━━━━━━━━━━━━━━━━━━┳━━━━━━━━━━━━━━━━━━━━━━━━━━━━━┳━━━━━━━━━━━━━━━━━┓\n",
              "┃<span style=\"font-weight: bold\"> Layer (type)                         </span>┃<span style=\"font-weight: bold\"> Output Shape                </span>┃<span style=\"font-weight: bold\">         Param # </span>┃\n",
              "┡━━━━━━━━━━━━━━━━━━━━━━━━━━━━━━━━━━━━━━╇━━━━━━━━━━━━━━━━━━━━━━━━━━━━━╇━━━━━━━━━━━━━━━━━┩\n",
              "│ Images (<span style=\"color: #0087ff; text-decoration-color: #0087ff\">Flatten</span>)                     │ (<span style=\"color: #00d7ff; text-decoration-color: #00d7ff\">None</span>, <span style=\"color: #00af00; text-decoration-color: #00af00\">784</span>)                 │               <span style=\"color: #00af00; text-decoration-color: #00af00\">0</span> │\n",
              "├──────────────────────────────────────┼─────────────────────────────┼─────────────────┤\n",
              "│ Logistic (<span style=\"color: #0087ff; text-decoration-color: #0087ff\">Dense</span>)                     │ (<span style=\"color: #00d7ff; text-decoration-color: #00d7ff\">None</span>, <span style=\"color: #00af00; text-decoration-color: #00af00\">10</span>)                  │           <span style=\"color: #00af00; text-decoration-color: #00af00\">7,850</span> │\n",
              "└──────────────────────────────────────┴─────────────────────────────┴─────────────────┘\n",
              "</pre>\n"
            ]
          },
          "metadata": {}
        },
        {
          "output_type": "display_data",
          "data": {
            "text/plain": [
              "\u001b[1m Total params: \u001b[0m\u001b[38;5;34m23,552\u001b[0m (92.00 KB)\n"
            ],
            "text/html": [
              "<pre style=\"white-space:pre;overflow-x:auto;line-height:normal;font-family:Menlo,'DejaVu Sans Mono',consolas,'Courier New',monospace\"><span style=\"font-weight: bold\"> Total params: </span><span style=\"color: #00af00; text-decoration-color: #00af00\">23,552</span> (92.00 KB)\n",
              "</pre>\n"
            ]
          },
          "metadata": {}
        },
        {
          "output_type": "display_data",
          "data": {
            "text/plain": [
              "\u001b[1m Trainable params: \u001b[0m\u001b[38;5;34m7,850\u001b[0m (30.66 KB)\n"
            ],
            "text/html": [
              "<pre style=\"white-space:pre;overflow-x:auto;line-height:normal;font-family:Menlo,'DejaVu Sans Mono',consolas,'Courier New',monospace\"><span style=\"font-weight: bold\"> Trainable params: </span><span style=\"color: #00af00; text-decoration-color: #00af00\">7,850</span> (30.66 KB)\n",
              "</pre>\n"
            ]
          },
          "metadata": {}
        },
        {
          "output_type": "display_data",
          "data": {
            "text/plain": [
              "\u001b[1m Non-trainable params: \u001b[0m\u001b[38;5;34m0\u001b[0m (0.00 B)\n"
            ],
            "text/html": [
              "<pre style=\"white-space:pre;overflow-x:auto;line-height:normal;font-family:Menlo,'DejaVu Sans Mono',consolas,'Courier New',monospace\"><span style=\"font-weight: bold\"> Non-trainable params: </span><span style=\"color: #00af00; text-decoration-color: #00af00\">0</span> (0.00 B)\n",
              "</pre>\n"
            ]
          },
          "metadata": {}
        },
        {
          "output_type": "display_data",
          "data": {
            "text/plain": [
              "\u001b[1m Optimizer params: \u001b[0m\u001b[38;5;34m15,702\u001b[0m (61.34 KB)\n"
            ],
            "text/html": [
              "<pre style=\"white-space:pre;overflow-x:auto;line-height:normal;font-family:Menlo,'DejaVu Sans Mono',consolas,'Courier New',monospace\"><span style=\"font-weight: bold\"> Optimizer params: </span><span style=\"color: #00af00; text-decoration-color: #00af00\">15,702</span> (61.34 KB)\n",
              "</pre>\n"
            ]
          },
          "metadata": {}
        }
      ]
    },
    {
      "cell_type": "code",
      "metadata": {
        "id": "XMOrroKU72oU",
        "colab": {
          "base_uri": "https://localhost:8080/"
        },
        "outputId": "cba90244-3548-4b7c-c15d-69b34d0d2608"
      },
      "source": [
        "# Normalizing input (this step doesn't seem to be critical)\n",
        "trImages = trImages/255.0\n",
        "tImages = tImages/255.0\n",
        "\n",
        "# Train the model\n",
        "trHistory = model.fit(x=trImages, y=trLabels, batch_size=batchSize, epochs=nEpochs,\n",
        "                      shuffle=False, validation_split=0.0)"
      ],
      "execution_count": 10,
      "outputs": [
        {
          "output_type": "stream",
          "name": "stdout",
          "text": [
            "Epoch 1/50\n",
            "\u001b[1m469/469\u001b[0m \u001b[32m━━━━━━━━━━━━━━━━━━━━\u001b[0m\u001b[37m\u001b[0m \u001b[1m2s\u001b[0m 2ms/step - accuracy: 0.6726 - loss: 1.0104\n",
            "Epoch 2/50\n",
            "\u001b[1m469/469\u001b[0m \u001b[32m━━━━━━━━━━━━━━━━━━━━\u001b[0m\u001b[37m\u001b[0m \u001b[1m1s\u001b[0m 2ms/step - accuracy: 0.8249 - loss: 0.5296\n",
            "Epoch 3/50\n",
            "\u001b[1m469/469\u001b[0m \u001b[32m━━━━━━━━━━━━━━━━━━━━\u001b[0m\u001b[37m\u001b[0m \u001b[1m1s\u001b[0m 2ms/step - accuracy: 0.8399 - loss: 0.4795\n",
            "Epoch 4/50\n",
            "\u001b[1m469/469\u001b[0m \u001b[32m━━━━━━━━━━━━━━━━━━━━\u001b[0m\u001b[37m\u001b[0m \u001b[1m1s\u001b[0m 2ms/step - accuracy: 0.8473 - loss: 0.4550\n",
            "Epoch 5/50\n",
            "\u001b[1m469/469\u001b[0m \u001b[32m━━━━━━━━━━━━━━━━━━━━\u001b[0m\u001b[37m\u001b[0m \u001b[1m1s\u001b[0m 2ms/step - accuracy: 0.8506 - loss: 0.4397\n",
            "Epoch 6/50\n",
            "\u001b[1m469/469\u001b[0m \u001b[32m━━━━━━━━━━━━━━━━━━━━\u001b[0m\u001b[37m\u001b[0m \u001b[1m1s\u001b[0m 2ms/step - accuracy: 0.8540 - loss: 0.4291\n",
            "Epoch 7/50\n",
            "\u001b[1m469/469\u001b[0m \u001b[32m━━━━━━━━━━━━━━━━━━━━\u001b[0m\u001b[37m\u001b[0m \u001b[1m1s\u001b[0m 2ms/step - accuracy: 0.8562 - loss: 0.4212\n",
            "Epoch 8/50\n",
            "\u001b[1m469/469\u001b[0m \u001b[32m━━━━━━━━━━━━━━━━━━━━\u001b[0m\u001b[37m\u001b[0m \u001b[1m1s\u001b[0m 2ms/step - accuracy: 0.8576 - loss: 0.4150\n",
            "Epoch 9/50\n",
            "\u001b[1m469/469\u001b[0m \u001b[32m━━━━━━━━━━━━━━━━━━━━\u001b[0m\u001b[37m\u001b[0m \u001b[1m1s\u001b[0m 2ms/step - accuracy: 0.8591 - loss: 0.4100\n",
            "Epoch 10/50\n",
            "\u001b[1m469/469\u001b[0m \u001b[32m━━━━━━━━━━━━━━━━━━━━\u001b[0m\u001b[37m\u001b[0m \u001b[1m2s\u001b[0m 3ms/step - accuracy: 0.8602 - loss: 0.4058\n",
            "Epoch 11/50\n",
            "\u001b[1m469/469\u001b[0m \u001b[32m━━━━━━━━━━━━━━━━━━━━\u001b[0m\u001b[37m\u001b[0m \u001b[1m2s\u001b[0m 2ms/step - accuracy: 0.8617 - loss: 0.4022\n",
            "Epoch 12/50\n",
            "\u001b[1m469/469\u001b[0m \u001b[32m━━━━━━━━━━━━━━━━━━━━\u001b[0m\u001b[37m\u001b[0m \u001b[1m1s\u001b[0m 2ms/step - accuracy: 0.8624 - loss: 0.3991\n",
            "Epoch 13/50\n",
            "\u001b[1m469/469\u001b[0m \u001b[32m━━━━━━━━━━━━━━━━━━━━\u001b[0m\u001b[37m\u001b[0m \u001b[1m1s\u001b[0m 2ms/step - accuracy: 0.8631 - loss: 0.3964\n",
            "Epoch 14/50\n",
            "\u001b[1m469/469\u001b[0m \u001b[32m━━━━━━━━━━━━━━━━━━━━\u001b[0m\u001b[37m\u001b[0m \u001b[1m1s\u001b[0m 2ms/step - accuracy: 0.8639 - loss: 0.3940\n",
            "Epoch 15/50\n",
            "\u001b[1m469/469\u001b[0m \u001b[32m━━━━━━━━━━━━━━━━━━━━\u001b[0m\u001b[37m\u001b[0m \u001b[1m1s\u001b[0m 2ms/step - accuracy: 0.8647 - loss: 0.3918\n",
            "Epoch 16/50\n",
            "\u001b[1m469/469\u001b[0m \u001b[32m━━━━━━━━━━━━━━━━━━━━\u001b[0m\u001b[37m\u001b[0m \u001b[1m1s\u001b[0m 2ms/step - accuracy: 0.8651 - loss: 0.3899\n",
            "Epoch 17/50\n",
            "\u001b[1m469/469\u001b[0m \u001b[32m━━━━━━━━━━━━━━━━━━━━\u001b[0m\u001b[37m\u001b[0m \u001b[1m1s\u001b[0m 2ms/step - accuracy: 0.8655 - loss: 0.3881\n",
            "Epoch 18/50\n",
            "\u001b[1m469/469\u001b[0m \u001b[32m━━━━━━━━━━━━━━━━━━━━\u001b[0m\u001b[37m\u001b[0m \u001b[1m1s\u001b[0m 2ms/step - accuracy: 0.8660 - loss: 0.3865\n",
            "Epoch 19/50\n",
            "\u001b[1m469/469\u001b[0m \u001b[32m━━━━━━━━━━━━━━━━━━━━\u001b[0m\u001b[37m\u001b[0m \u001b[1m1s\u001b[0m 2ms/step - accuracy: 0.8662 - loss: 0.3850\n",
            "Epoch 20/50\n",
            "\u001b[1m469/469\u001b[0m \u001b[32m━━━━━━━━━━━━━━━━━━━━\u001b[0m\u001b[37m\u001b[0m \u001b[1m1s\u001b[0m 3ms/step - accuracy: 0.8665 - loss: 0.3836\n",
            "Epoch 21/50\n",
            "\u001b[1m469/469\u001b[0m \u001b[32m━━━━━━━━━━━━━━━━━━━━\u001b[0m\u001b[37m\u001b[0m \u001b[1m1s\u001b[0m 3ms/step - accuracy: 0.8668 - loss: 0.3823\n",
            "Epoch 22/50\n",
            "\u001b[1m469/469\u001b[0m \u001b[32m━━━━━━━━━━━━━━━━━━━━\u001b[0m\u001b[37m\u001b[0m \u001b[1m2s\u001b[0m 2ms/step - accuracy: 0.8674 - loss: 0.3811\n",
            "Epoch 23/50\n",
            "\u001b[1m469/469\u001b[0m \u001b[32m━━━━━━━━━━━━━━━━━━━━\u001b[0m\u001b[37m\u001b[0m \u001b[1m1s\u001b[0m 2ms/step - accuracy: 0.8677 - loss: 0.3800\n",
            "Epoch 24/50\n",
            "\u001b[1m469/469\u001b[0m \u001b[32m━━━━━━━━━━━━━━━━━━━━\u001b[0m\u001b[37m\u001b[0m \u001b[1m1s\u001b[0m 2ms/step - accuracy: 0.8681 - loss: 0.3790\n",
            "Epoch 25/50\n",
            "\u001b[1m469/469\u001b[0m \u001b[32m━━━━━━━━━━━━━━━━━━━━\u001b[0m\u001b[37m\u001b[0m \u001b[1m1s\u001b[0m 2ms/step - accuracy: 0.8682 - loss: 0.3780\n",
            "Epoch 26/50\n",
            "\u001b[1m469/469\u001b[0m \u001b[32m━━━━━━━━━━━━━━━━━━━━\u001b[0m\u001b[37m\u001b[0m \u001b[1m1s\u001b[0m 2ms/step - accuracy: 0.8683 - loss: 0.3770\n",
            "Epoch 27/50\n",
            "\u001b[1m469/469\u001b[0m \u001b[32m━━━━━━━━━━━━━━━━━━━━\u001b[0m\u001b[37m\u001b[0m \u001b[1m1s\u001b[0m 2ms/step - accuracy: 0.8684 - loss: 0.3761\n",
            "Epoch 28/50\n",
            "\u001b[1m469/469\u001b[0m \u001b[32m━━━━━━━━━━━━━━━━━━━━\u001b[0m\u001b[37m\u001b[0m \u001b[1m1s\u001b[0m 2ms/step - accuracy: 0.8685 - loss: 0.3753\n",
            "Epoch 29/50\n",
            "\u001b[1m469/469\u001b[0m \u001b[32m━━━━━━━━━━━━━━━━━━━━\u001b[0m\u001b[37m\u001b[0m \u001b[1m1s\u001b[0m 2ms/step - accuracy: 0.8687 - loss: 0.3745\n",
            "Epoch 30/50\n",
            "\u001b[1m469/469\u001b[0m \u001b[32m━━━━━━━━━━━━━━━━━━━━\u001b[0m\u001b[37m\u001b[0m \u001b[1m2s\u001b[0m 3ms/step - accuracy: 0.8690 - loss: 0.3737\n",
            "Epoch 31/50\n",
            "\u001b[1m469/469\u001b[0m \u001b[32m━━━━━━━━━━━━━━━━━━━━\u001b[0m\u001b[37m\u001b[0m \u001b[1m2s\u001b[0m 2ms/step - accuracy: 0.8689 - loss: 0.3730\n",
            "Epoch 32/50\n",
            "\u001b[1m469/469\u001b[0m \u001b[32m━━━━━━━━━━━━━━━━━━━━\u001b[0m\u001b[37m\u001b[0m \u001b[1m1s\u001b[0m 2ms/step - accuracy: 0.8691 - loss: 0.3723\n",
            "Epoch 33/50\n",
            "\u001b[1m469/469\u001b[0m \u001b[32m━━━━━━━━━━━━━━━━━━━━\u001b[0m\u001b[37m\u001b[0m \u001b[1m1s\u001b[0m 2ms/step - accuracy: 0.8693 - loss: 0.3716\n",
            "Epoch 34/50\n",
            "\u001b[1m469/469\u001b[0m \u001b[32m━━━━━━━━━━━━━━━━━━━━\u001b[0m\u001b[37m\u001b[0m \u001b[1m1s\u001b[0m 2ms/step - accuracy: 0.8693 - loss: 0.3710\n",
            "Epoch 35/50\n",
            "\u001b[1m469/469\u001b[0m \u001b[32m━━━━━━━━━━━━━━━━━━━━\u001b[0m\u001b[37m\u001b[0m \u001b[1m1s\u001b[0m 2ms/step - accuracy: 0.8695 - loss: 0.3704\n",
            "Epoch 36/50\n",
            "\u001b[1m469/469\u001b[0m \u001b[32m━━━━━━━━━━━━━━━━━━━━\u001b[0m\u001b[37m\u001b[0m \u001b[1m1s\u001b[0m 2ms/step - accuracy: 0.8697 - loss: 0.3698\n",
            "Epoch 37/50\n",
            "\u001b[1m469/469\u001b[0m \u001b[32m━━━━━━━━━━━━━━━━━━━━\u001b[0m\u001b[37m\u001b[0m \u001b[1m1s\u001b[0m 2ms/step - accuracy: 0.8697 - loss: 0.3692\n",
            "Epoch 38/50\n",
            "\u001b[1m469/469\u001b[0m \u001b[32m━━━━━━━━━━━━━━━━━━━━\u001b[0m\u001b[37m\u001b[0m \u001b[1m1s\u001b[0m 2ms/step - accuracy: 0.8698 - loss: 0.3687\n",
            "Epoch 39/50\n",
            "\u001b[1m469/469\u001b[0m \u001b[32m━━━━━━━━━━━━━━━━━━━━\u001b[0m\u001b[37m\u001b[0m \u001b[1m1s\u001b[0m 2ms/step - accuracy: 0.8699 - loss: 0.3681\n",
            "Epoch 40/50\n",
            "\u001b[1m469/469\u001b[0m \u001b[32m━━━━━━━━━━━━━━━━━━━━\u001b[0m\u001b[37m\u001b[0m \u001b[1m1s\u001b[0m 2ms/step - accuracy: 0.8699 - loss: 0.3676\n",
            "Epoch 41/50\n",
            "\u001b[1m469/469\u001b[0m \u001b[32m━━━━━━━━━━━━━━━━━━━━\u001b[0m\u001b[37m\u001b[0m \u001b[1m1s\u001b[0m 2ms/step - accuracy: 0.8698 - loss: 0.3671\n",
            "Epoch 42/50\n",
            "\u001b[1m469/469\u001b[0m \u001b[32m━━━━━━━━━━━━━━━━━━━━\u001b[0m\u001b[37m\u001b[0m \u001b[1m1s\u001b[0m 3ms/step - accuracy: 0.8700 - loss: 0.3666\n",
            "Epoch 43/50\n",
            "\u001b[1m469/469\u001b[0m \u001b[32m━━━━━━━━━━━━━━━━━━━━\u001b[0m\u001b[37m\u001b[0m \u001b[1m1s\u001b[0m 3ms/step - accuracy: 0.8703 - loss: 0.3662\n",
            "Epoch 44/50\n",
            "\u001b[1m469/469\u001b[0m \u001b[32m━━━━━━━━━━━━━━━━━━━━\u001b[0m\u001b[37m\u001b[0m \u001b[1m2s\u001b[0m 2ms/step - accuracy: 0.8704 - loss: 0.3657\n",
            "Epoch 45/50\n",
            "\u001b[1m469/469\u001b[0m \u001b[32m━━━━━━━━━━━━━━━━━━━━\u001b[0m\u001b[37m\u001b[0m \u001b[1m1s\u001b[0m 2ms/step - accuracy: 0.8705 - loss: 0.3653\n",
            "Epoch 46/50\n",
            "\u001b[1m469/469\u001b[0m \u001b[32m━━━━━━━━━━━━━━━━━━━━\u001b[0m\u001b[37m\u001b[0m \u001b[1m1s\u001b[0m 2ms/step - accuracy: 0.8706 - loss: 0.3648\n",
            "Epoch 47/50\n",
            "\u001b[1m469/469\u001b[0m \u001b[32m━━━━━━━━━━━━━━━━━━━━\u001b[0m\u001b[37m\u001b[0m \u001b[1m1s\u001b[0m 2ms/step - accuracy: 0.8707 - loss: 0.3644\n",
            "Epoch 48/50\n",
            "\u001b[1m469/469\u001b[0m \u001b[32m━━━━━━━━━━━━━━━━━━━━\u001b[0m\u001b[37m\u001b[0m \u001b[1m1s\u001b[0m 2ms/step - accuracy: 0.8710 - loss: 0.3640\n",
            "Epoch 49/50\n",
            "\u001b[1m469/469\u001b[0m \u001b[32m━━━━━━━━━━━━━━━━━━━━\u001b[0m\u001b[37m\u001b[0m \u001b[1m1s\u001b[0m 2ms/step - accuracy: 0.8713 - loss: 0.3636\n",
            "Epoch 50/50\n",
            "\u001b[1m469/469\u001b[0m \u001b[32m━━━━━━━━━━━━━━━━━━━━\u001b[0m\u001b[37m\u001b[0m \u001b[1m1s\u001b[0m 2ms/step - accuracy: 0.8715 - loss: 0.3632\n"
          ]
        }
      ]
    },
    {
      "cell_type": "code",
      "metadata": {
        "id": "L5HYLbgj4tf3",
        "outputId": "1dacef04-8fa6-4548-8a7d-5dd2adb57091",
        "colab": {
          "base_uri": "https://localhost:8080/",
          "height": 865
        }
      },
      "source": [
        "plt.figure(1)\n",
        "plt.plot(trHistory.history['accuracy'], 'b-o')\n",
        "#plt.plot(trHistory.history['loss'])\n",
        "plt.grid(True)\n",
        "# plt.xlabel('Epoch #')\n",
        "plt.ylabel(\"Accuracy\")\n",
        "\n",
        "plt.figure(2)\n",
        "plt.plot(trHistory.history['loss'],'r-s')\n",
        "plt.grid(True)\n",
        "plt.xlabel('Epoch #')\n",
        "plt.ylabel(\"Loss\")\n",
        "plt.show()"
      ],
      "execution_count": 11,
      "outputs": [
        {
          "output_type": "display_data",
          "data": {
            "text/plain": [
              "<Figure size 640x480 with 1 Axes>"
            ],
            "image/png": "[encoded data removed]"
          },
          "metadata": {}
        },
        {
          "output_type": "display_data",
          "data": {
            "text/plain": [
              "<Figure size 640x480 with 1 Axes>"
            ],
            "image/png": "[encoded data removed]"
          },
          "metadata": {}
        }
      ]
    },
    {
      "cell_type": "code",
      "source": [
        "np.shape(tImages)"
      ],
      "metadata": {
        "id": "lym-9FTK1VT2",
        "outputId": "5ed76865-3691-41aa-b590-32ccf937767a",
        "colab": {
          "base_uri": "https://localhost:8080/"
        }
      },
      "execution_count": 30,
      "outputs": [
        {
          "output_type": "execute_result",
          "data": {
            "text/plain": [
              "(10000, 28, 28)"
            ]
          },
          "metadata": {},
          "execution_count": 30
        }
      ]
    },
    {
      "cell_type": "code",
      "metadata": {
        "id": "aA4r8rHs4x3g",
        "outputId": "32db5caf-4398-41bc-de3b-d42b7aaf0612",
        "colab": {
          "base_uri": "https://localhost:8080/"
        }
      },
      "source": [
        "tPrediction = model.predict(tImages) # output is a matrix of probabilities where each row corresponds to an image in the Test Set\n",
        "idCount = 0\n",
        "nErrs = 0\n",
        "for _ in tPrediction:\n",
        "  predictedLabel = np.argmax(_)\n",
        "  if predictedLabel != tLabels[idCount]:\n",
        "     nErrs += 1\n",
        "  idCount += 1\n",
        "\n",
        "errRate = nErrs / float(np.shape(tImages)[0])\n",
        "print(\"Prediction Error = %f\" %errRate)"
      ],
      "execution_count": 14,
      "outputs": [
        {
          "output_type": "stream",
          "name": "stdout",
          "text": [
            "\u001b[1m313/313\u001b[0m \u001b[32m━━━━━━━━━━━━━━━━━━━━\u001b[0m\u001b[37m\u001b[0m \u001b[1m1s\u001b[0m 2ms/step\n",
            "Prediction Error = 0.156200\n"
          ]
        }
      ]
    },
    {
      "cell_type": "markdown",
      "metadata": {
        "id": "FRpyvddw5JM_"
      },
      "source": [
        "### Multi-Layer Implementation\n",
        "\n",
        "In a multi-layer implementation of logistic regression, we process the input layer through additional ReLu layers prior to feeding it to a Logistic layer. In this implementation, pixels of input images are preprocessed prior to generating probabilities.\n",
        "\n",
        "In this example, we add two additional layers: Layer-1 has 128 units with ReLu activation and Layer-2 has 32 units with ReLu activation as well. The Logistic layer (or Layer-3), as before, has 10 units with Softmax activation.\n",
        "\n",
        "Such an implementation shows better classification performance."
      ]
    },
    {
      "cell_type": "code",
      "metadata": {
        "id": "_yFe7DRr6ghw"
      },
      "source": [
        "# Training Parameters\n",
        "batchSize = 128\n",
        "nEpochs = 150"
      ],
      "execution_count": null,
      "outputs": []
    },
    {
      "cell_type": "code",
      "metadata": {
        "id": "3mhEcWZR5R1A",
        "outputId": "94cfa7d8-63bb-4375-f8b8-c23a8962cfd0",
        "colab": {
          "base_uri": "https://localhost:8080/",
          "height": 533
        }
      },
      "source": [
        "# Building a feed-forward network\n",
        "model = tf.keras.Sequential() # empty model\n",
        "\n",
        "# Layer0 simply flattens image input\n",
        "layer0 = tf.keras.layers.Flatten(input_shape=np.shape(trImages[0]),name='Images')\n",
        "model.add(layer0)\n",
        "\n",
        "# Layer1 is a dense layer\n",
        "numUnits_L1 =128\n",
        "layer1 = tf.keras.layers.Dense(units=numUnits_L1, activation=tf.nn.relu, use_bias=True,name='Dense-Relu1')\n",
        "model.add(layer1)\n",
        "\n",
        "# Layer2 is a dense layer\n",
        "numUnits_L2 =32\n",
        "layer2 = tf.keras.layers.Dense(units=numUnits_L2, activation=tf.nn.relu, use_bias=True,name='Dense-Relu2')\n",
        "model.add(layer2)\n",
        "\n",
        "# Layer3 is the output layer\n",
        "numUnits_L3 = 10\n",
        "layer3 = tf.keras.layers.Dense(units=numUnits_L3, activation=tf.nn.softmax, use_bias=True, name='Logistic')\n",
        "model.add(layer3)\n",
        "\n",
        "# Compile model\n",
        "model.compile(optimizer='adam',loss='sparse_categorical_crossentropy', metrics=['accuracy']) #'sparse_categorical_crossentropy'\n",
        "\n",
        "# Plot Logistic Regression Network\n",
        "tf.keras.utils.plot_model(model, show_shapes=True, show_layer_names=True)"
      ],
      "execution_count": null,
      "outputs": [
        {
          "output_type": "execute_result",
          "data": {
            "text/plain": [
              "<IPython.core.display.Image object>"
            ],
            "image/png": "[encoded data removed]"
          },
          "metadata": {},
          "execution_count": 10
        }
      ]
    },
    {
      "cell_type": "code",
      "metadata": {
        "id": "Np53mQip_hHh",
        "colab": {
          "base_uri": "https://localhost:8080/"
        },
        "outputId": "524664f4-4bfa-4ab8-dc75-d54b05a4c09f"
      },
      "source": [
        "# Normalizing input (this step doesn't seem to be critical)\n",
        "trImages = trImages / 255.0\n",
        "tImages = tImages / 255.0\n",
        "\n",
        "# Train the model\n",
        "trHistory = model.fit(x=trImages, y=trLabels, batch_size=batchSize, epochs=nEpochs,\n",
        "                      shuffle=False, validation_split=0.0)"
      ],
      "execution_count": null,
      "outputs": [
        {
          "output_type": "stream",
          "name": "stdout",
          "text": [
            "Epoch 1/150\n",
            "469/469 [==============================] - 3s 5ms/step - loss: 1.3093 - accuracy: 0.5610\n",
            "Epoch 2/150\n",
            "469/469 [==============================] - 2s 5ms/step - loss: 0.7065 - accuracy: 0.7443\n",
            "Epoch 3/150\n",
            "469/469 [==============================] - 2s 5ms/step - loss: 0.6098 - accuracy: 0.7768\n",
            "Epoch 4/150\n",
            "469/469 [==============================] - 2s 5ms/step - loss: 0.5667 - accuracy: 0.7944\n",
            "Epoch 5/150\n",
            "469/469 [==============================] - 2s 5ms/step - loss: 0.5375 - accuracy: 0.8070\n",
            "Epoch 6/150\n",
            "469/469 [==============================] - 3s 6ms/step - loss: 0.5152 - accuracy: 0.8161\n",
            "Epoch 7/150\n",
            "469/469 [==============================] - 2s 5ms/step - loss: 0.4968 - accuracy: 0.8232\n",
            "Epoch 8/150\n",
            "469/469 [==============================] - 2s 5ms/step - loss: 0.4809 - accuracy: 0.8283\n",
            "Epoch 9/150\n",
            "469/469 [==============================] - 2s 4ms/step - loss: 0.4673 - accuracy: 0.8339\n",
            "Epoch 10/150\n",
            "469/469 [==============================] - 2s 4ms/step - loss: 0.4556 - accuracy: 0.8382\n",
            "Epoch 11/150\n",
            "469/469 [==============================] - 2s 5ms/step - loss: 0.4454 - accuracy: 0.8419\n",
            "Epoch 12/150\n",
            "469/469 [==============================] - 2s 5ms/step - loss: 0.4365 - accuracy: 0.8451\n",
            "Epoch 13/150\n",
            "469/469 [==============================] - 2s 5ms/step - loss: 0.4285 - accuracy: 0.8484\n",
            "Epoch 14/150\n",
            "469/469 [==============================] - 2s 4ms/step - loss: 0.4216 - accuracy: 0.8507\n",
            "Epoch 15/150\n",
            "469/469 [==============================] - 2s 5ms/step - loss: 0.4152 - accuracy: 0.8526\n",
            "Epoch 16/150\n",
            "469/469 [==============================] - 2s 5ms/step - loss: 0.4094 - accuracy: 0.8544\n",
            "Epoch 17/150\n",
            "469/469 [==============================] - 2s 5ms/step - loss: 0.4040 - accuracy: 0.8561\n",
            "Epoch 18/150\n",
            "469/469 [==============================] - 2s 4ms/step - loss: 0.3990 - accuracy: 0.8577\n",
            "Epoch 19/150\n",
            "469/469 [==============================] - 2s 4ms/step - loss: 0.3942 - accuracy: 0.8591\n",
            "Epoch 20/150\n",
            "469/469 [==============================] - 2s 4ms/step - loss: 0.3896 - accuracy: 0.8610\n",
            "Epoch 21/150\n",
            "469/469 [==============================] - 2s 5ms/step - loss: 0.3852 - accuracy: 0.8624\n",
            "Epoch 22/150\n",
            "469/469 [==============================] - 2s 5ms/step - loss: 0.3810 - accuracy: 0.8635\n",
            "Epoch 23/150\n",
            "469/469 [==============================] - 2s 4ms/step - loss: 0.3770 - accuracy: 0.8650\n",
            "Epoch 24/150\n",
            "469/469 [==============================] - 2s 4ms/step - loss: 0.3731 - accuracy: 0.8661\n",
            "Epoch 25/150\n",
            "469/469 [==============================] - 2s 4ms/step - loss: 0.3694 - accuracy: 0.8677\n",
            "Epoch 26/150\n",
            "469/469 [==============================] - 2s 4ms/step - loss: 0.3658 - accuracy: 0.8687\n",
            "Epoch 27/150\n",
            "469/469 [==============================] - 2s 4ms/step - loss: 0.3623 - accuracy: 0.8700\n",
            "Epoch 28/150\n",
            "469/469 [==============================] - 2s 5ms/step - loss: 0.3588 - accuracy: 0.8709\n",
            "Epoch 29/150\n",
            "469/469 [==============================] - 2s 5ms/step - loss: 0.3554 - accuracy: 0.8725\n",
            "Epoch 30/150\n",
            "469/469 [==============================] - 2s 5ms/step - loss: 0.3520 - accuracy: 0.8734\n",
            "Epoch 31/150\n",
            "469/469 [==============================] - 2s 4ms/step - loss: 0.3487 - accuracy: 0.8745\n",
            "Epoch 32/150\n",
            "469/469 [==============================] - 2s 5ms/step - loss: 0.3455 - accuracy: 0.8757\n",
            "Epoch 33/150\n",
            "469/469 [==============================] - 2s 5ms/step - loss: 0.3424 - accuracy: 0.8766\n",
            "Epoch 34/150\n",
            "469/469 [==============================] - 2s 4ms/step - loss: 0.3395 - accuracy: 0.8775\n",
            "Epoch 35/150\n",
            "469/469 [==============================] - 2s 5ms/step - loss: 0.3366 - accuracy: 0.8783\n",
            "Epoch 36/150\n",
            "469/469 [==============================] - 2s 4ms/step - loss: 0.3337 - accuracy: 0.8792\n",
            "Epoch 37/150\n",
            "469/469 [==============================] - 2s 4ms/step - loss: 0.3310 - accuracy: 0.8802\n",
            "Epoch 38/150\n",
            "469/469 [==============================] - 2s 4ms/step - loss: 0.3283 - accuracy: 0.8812\n",
            "Epoch 39/150\n",
            "469/469 [==============================] - 2s 4ms/step - loss: 0.3257 - accuracy: 0.8820\n",
            "Epoch 40/150\n",
            "469/469 [==============================] - 2s 4ms/step - loss: 0.3233 - accuracy: 0.8830\n",
            "Epoch 41/150\n",
            "469/469 [==============================] - 2s 4ms/step - loss: 0.3208 - accuracy: 0.8838\n",
            "Epoch 42/150\n",
            "469/469 [==============================] - 2s 4ms/step - loss: 0.3184 - accuracy: 0.8845\n",
            "Epoch 43/150\n",
            "469/469 [==============================] - 2s 4ms/step - loss: 0.3161 - accuracy: 0.8856\n",
            "Epoch 44/150\n",
            "469/469 [==============================] - 2s 4ms/step - loss: 0.3138 - accuracy: 0.8864\n",
            "Epoch 45/150\n",
            "469/469 [==============================] - 2s 4ms/step - loss: 0.3116 - accuracy: 0.8868\n",
            "Epoch 46/150\n",
            "469/469 [==============================] - 2s 4ms/step - loss: 0.3094 - accuracy: 0.8874\n",
            "Epoch 47/150\n",
            "469/469 [==============================] - 2s 4ms/step - loss: 0.3073 - accuracy: 0.8883\n",
            "Epoch 48/150\n",
            "469/469 [==============================] - 2s 4ms/step - loss: 0.3052 - accuracy: 0.8891\n",
            "Epoch 49/150\n",
            "469/469 [==============================] - 2s 4ms/step - loss: 0.3032 - accuracy: 0.8900\n",
            "Epoch 50/150\n",
            "469/469 [==============================] - 2s 4ms/step - loss: 0.3013 - accuracy: 0.8907\n",
            "Epoch 51/150\n",
            "469/469 [==============================] - 2s 4ms/step - loss: 0.2993 - accuracy: 0.8914\n",
            "Epoch 52/150\n",
            "469/469 [==============================] - 2s 4ms/step - loss: 0.2975 - accuracy: 0.8924\n",
            "Epoch 53/150\n",
            "469/469 [==============================] - 2s 4ms/step - loss: 0.2957 - accuracy: 0.8930\n",
            "Epoch 54/150\n",
            "469/469 [==============================] - 2s 4ms/step - loss: 0.2939 - accuracy: 0.8936\n",
            "Epoch 55/150\n",
            "469/469 [==============================] - 2s 4ms/step - loss: 0.2921 - accuracy: 0.8942\n",
            "Epoch 56/150\n",
            "469/469 [==============================] - 2s 4ms/step - loss: 0.2903 - accuracy: 0.8949\n",
            "Epoch 57/150\n",
            "469/469 [==============================] - 2s 4ms/step - loss: 0.2887 - accuracy: 0.8955\n",
            "Epoch 58/150\n",
            "469/469 [==============================] - 2s 4ms/step - loss: 0.2870 - accuracy: 0.8960\n",
            "Epoch 59/150\n",
            "469/469 [==============================] - 2s 4ms/step - loss: 0.2853 - accuracy: 0.8963\n",
            "Epoch 60/150\n",
            "469/469 [==============================] - 2s 4ms/step - loss: 0.2836 - accuracy: 0.8972\n",
            "Epoch 61/150\n",
            "469/469 [==============================] - 2s 4ms/step - loss: 0.2820 - accuracy: 0.8974\n",
            "Epoch 62/150\n",
            "469/469 [==============================] - 2s 5ms/step - loss: 0.2804 - accuracy: 0.8981\n",
            "Epoch 63/150\n",
            "469/469 [==============================] - 2s 4ms/step - loss: 0.2788 - accuracy: 0.8988\n",
            "Epoch 64/150\n",
            "469/469 [==============================] - 2s 5ms/step - loss: 0.2773 - accuracy: 0.8994\n",
            "Epoch 65/150\n",
            "469/469 [==============================] - 2s 5ms/step - loss: 0.2757 - accuracy: 0.8997\n",
            "Epoch 66/150\n",
            "469/469 [==============================] - 2s 4ms/step - loss: 0.2742 - accuracy: 0.9002\n",
            "Epoch 67/150\n",
            "469/469 [==============================] - 2s 5ms/step - loss: 0.2727 - accuracy: 0.9007\n",
            "Epoch 68/150\n",
            "469/469 [==============================] - 2s 5ms/step - loss: 0.2713 - accuracy: 0.9012\n",
            "Epoch 69/150\n",
            "469/469 [==============================] - 2s 4ms/step - loss: 0.2699 - accuracy: 0.9018\n",
            "Epoch 70/150\n",
            "469/469 [==============================] - 2s 5ms/step - loss: 0.2684 - accuracy: 0.9021\n",
            "Epoch 71/150\n",
            "469/469 [==============================] - 2s 4ms/step - loss: 0.2671 - accuracy: 0.9025\n",
            "Epoch 72/150\n",
            "469/469 [==============================] - 2s 4ms/step - loss: 0.2657 - accuracy: 0.9030\n",
            "Epoch 73/150\n",
            "469/469 [==============================] - 2s 4ms/step - loss: 0.2643 - accuracy: 0.9037\n",
            "Epoch 74/150\n",
            "469/469 [==============================] - 2s 5ms/step - loss: 0.2629 - accuracy: 0.9040\n",
            "Epoch 75/150\n",
            "469/469 [==============================] - 2s 4ms/step - loss: 0.2616 - accuracy: 0.9046\n",
            "Epoch 76/150\n",
            "469/469 [==============================] - 2s 5ms/step - loss: 0.2603 - accuracy: 0.9050\n",
            "Epoch 77/150\n",
            "469/469 [==============================] - 2s 5ms/step - loss: 0.2590 - accuracy: 0.9054\n",
            "Epoch 78/150\n",
            "469/469 [==============================] - 2s 5ms/step - loss: 0.2577 - accuracy: 0.9058\n",
            "Epoch 79/150\n",
            "469/469 [==============================] - 2s 5ms/step - loss: 0.2565 - accuracy: 0.9065\n",
            "Epoch 80/150\n",
            "469/469 [==============================] - 2s 5ms/step - loss: 0.2552 - accuracy: 0.9071\n",
            "Epoch 81/150\n",
            "469/469 [==============================] - 3s 6ms/step - loss: 0.2539 - accuracy: 0.9077\n",
            "Epoch 82/150\n",
            "469/469 [==============================] - 3s 6ms/step - loss: 0.2528 - accuracy: 0.9084\n",
            "Epoch 83/150\n",
            "469/469 [==============================] - 4s 8ms/step - loss: 0.2515 - accuracy: 0.9087\n",
            "Epoch 84/150\n",
            "469/469 [==============================] - 3s 7ms/step - loss: 0.2503 - accuracy: 0.9094\n",
            "Epoch 85/150\n",
            "469/469 [==============================] - 3s 7ms/step - loss: 0.2491 - accuracy: 0.9100\n",
            "Epoch 86/150\n",
            "469/469 [==============================] - 3s 6ms/step - loss: 0.2478 - accuracy: 0.9103\n",
            "Epoch 87/150\n",
            "469/469 [==============================] - 3s 7ms/step - loss: 0.2466 - accuracy: 0.9106\n",
            "Epoch 88/150\n",
            "469/469 [==============================] - 2s 5ms/step - loss: 0.2454 - accuracy: 0.9110\n",
            "Epoch 89/150\n",
            "469/469 [==============================] - 2s 5ms/step - loss: 0.2443 - accuracy: 0.9115\n",
            "Epoch 90/150\n",
            "469/469 [==============================] - 3s 6ms/step - loss: 0.2432 - accuracy: 0.9119\n",
            "Epoch 91/150\n",
            "469/469 [==============================] - 3s 6ms/step - loss: 0.2420 - accuracy: 0.9124\n",
            "Epoch 92/150\n",
            "469/469 [==============================] - 2s 5ms/step - loss: 0.2409 - accuracy: 0.9128\n",
            "Epoch 93/150\n",
            "469/469 [==============================] - 2s 5ms/step - loss: 0.2399 - accuracy: 0.9133\n",
            "Epoch 94/150\n",
            "469/469 [==============================] - 2s 5ms/step - loss: 0.2387 - accuracy: 0.9137\n",
            "Epoch 95/150\n",
            "469/469 [==============================] - 2s 5ms/step - loss: 0.2377 - accuracy: 0.9140\n",
            "Epoch 96/150\n",
            "469/469 [==============================] - 3s 7ms/step - loss: 0.2366 - accuracy: 0.9145\n",
            "Epoch 97/150\n",
            "469/469 [==============================] - 4s 8ms/step - loss: 0.2355 - accuracy: 0.9153\n",
            "Epoch 98/150\n",
            "469/469 [==============================] - 4s 8ms/step - loss: 0.2344 - accuracy: 0.9156\n",
            "Epoch 99/150\n",
            "469/469 [==============================] - 3s 7ms/step - loss: 0.2334 - accuracy: 0.9159\n",
            "Epoch 100/150\n",
            "469/469 [==============================] - 2s 5ms/step - loss: 0.2324 - accuracy: 0.9162\n",
            "Epoch 101/150\n",
            "469/469 [==============================] - 2s 5ms/step - loss: 0.2312 - accuracy: 0.9164\n",
            "Epoch 102/150\n",
            "469/469 [==============================] - 2s 5ms/step - loss: 0.2302 - accuracy: 0.9169\n",
            "Epoch 103/150\n",
            "469/469 [==============================] - 2s 5ms/step - loss: 0.2292 - accuracy: 0.9172\n",
            "Epoch 104/150\n",
            "469/469 [==============================] - 3s 5ms/step - loss: 0.2282 - accuracy: 0.9174\n",
            "Epoch 105/150\n",
            "469/469 [==============================] - 2s 5ms/step - loss: 0.2272 - accuracy: 0.9179\n",
            "Epoch 106/150\n",
            "469/469 [==============================] - 2s 5ms/step - loss: 0.2262 - accuracy: 0.9182\n",
            "Epoch 107/150\n",
            "469/469 [==============================] - 2s 5ms/step - loss: 0.2252 - accuracy: 0.9183\n",
            "Epoch 108/150\n",
            "469/469 [==============================] - 2s 5ms/step - loss: 0.2243 - accuracy: 0.9185\n",
            "Epoch 109/150\n",
            "469/469 [==============================] - 2s 5ms/step - loss: 0.2232 - accuracy: 0.9189\n",
            "Epoch 110/150\n",
            "469/469 [==============================] - 2s 5ms/step - loss: 0.2223 - accuracy: 0.9192\n",
            "Epoch 111/150\n",
            "469/469 [==============================] - 2s 5ms/step - loss: 0.2213 - accuracy: 0.9198\n",
            "Epoch 112/150\n",
            "469/469 [==============================] - 2s 5ms/step - loss: 0.2204 - accuracy: 0.9202\n",
            "Epoch 113/150\n",
            "469/469 [==============================] - 2s 5ms/step - loss: 0.2195 - accuracy: 0.9207\n",
            "Epoch 114/150\n",
            "469/469 [==============================] - 2s 5ms/step - loss: 0.2185 - accuracy: 0.9211\n",
            "Epoch 115/150\n",
            "469/469 [==============================] - 2s 5ms/step - loss: 0.2175 - accuracy: 0.9215\n",
            "Epoch 116/150\n",
            "469/469 [==============================] - 2s 5ms/step - loss: 0.2166 - accuracy: 0.9217\n",
            "Epoch 117/150\n",
            "469/469 [==============================] - 2s 5ms/step - loss: 0.2157 - accuracy: 0.9220\n",
            "Epoch 118/150\n",
            "469/469 [==============================] - 2s 5ms/step - loss: 0.2149 - accuracy: 0.9223\n",
            "Epoch 119/150\n",
            "469/469 [==============================] - 2s 5ms/step - loss: 0.2140 - accuracy: 0.9224\n",
            "Epoch 120/150\n",
            "469/469 [==============================] - 2s 5ms/step - loss: 0.2130 - accuracy: 0.9229\n",
            "Epoch 121/150\n",
            "469/469 [==============================] - 2s 5ms/step - loss: 0.2122 - accuracy: 0.9235\n",
            "Epoch 122/150\n",
            "469/469 [==============================] - 2s 5ms/step - loss: 0.2113 - accuracy: 0.9238\n",
            "Epoch 123/150\n",
            "469/469 [==============================] - 2s 5ms/step - loss: 0.2105 - accuracy: 0.9241\n",
            "Epoch 124/150\n",
            "469/469 [==============================] - 2s 5ms/step - loss: 0.2095 - accuracy: 0.9248\n",
            "Epoch 125/150\n",
            "469/469 [==============================] - 2s 5ms/step - loss: 0.2087 - accuracy: 0.9250\n",
            "Epoch 126/150\n",
            "469/469 [==============================] - 3s 5ms/step - loss: 0.2078 - accuracy: 0.9253\n",
            "Epoch 127/150\n",
            "469/469 [==============================] - 2s 5ms/step - loss: 0.2070 - accuracy: 0.9257\n",
            "Epoch 128/150\n",
            "469/469 [==============================] - 2s 5ms/step - loss: 0.2061 - accuracy: 0.9260\n",
            "Epoch 129/150\n",
            "469/469 [==============================] - 2s 5ms/step - loss: 0.2052 - accuracy: 0.9262\n",
            "Epoch 130/150\n",
            "469/469 [==============================] - 2s 5ms/step - loss: 0.2045 - accuracy: 0.9265\n",
            "Epoch 131/150\n",
            "469/469 [==============================] - 2s 5ms/step - loss: 0.2036 - accuracy: 0.9269\n",
            "Epoch 132/150\n",
            "469/469 [==============================] - 2s 5ms/step - loss: 0.2028 - accuracy: 0.9270\n",
            "Epoch 133/150\n",
            "469/469 [==============================] - 2s 5ms/step - loss: 0.2020 - accuracy: 0.9271\n",
            "Epoch 134/150\n",
            "469/469 [==============================] - 2s 5ms/step - loss: 0.2012 - accuracy: 0.9276\n",
            "Epoch 135/150\n",
            "469/469 [==============================] - 2s 5ms/step - loss: 0.2003 - accuracy: 0.9277\n",
            "Epoch 136/150\n",
            "469/469 [==============================] - 2s 5ms/step - loss: 0.1995 - accuracy: 0.9283\n",
            "Epoch 137/150\n",
            "469/469 [==============================] - 2s 5ms/step - loss: 0.1988 - accuracy: 0.9284\n",
            "Epoch 138/150\n",
            "469/469 [==============================] - 2s 5ms/step - loss: 0.1979 - accuracy: 0.9287\n",
            "Epoch 139/150\n",
            "469/469 [==============================] - 3s 5ms/step - loss: 0.1971 - accuracy: 0.9291\n",
            "Epoch 140/150\n",
            "469/469 [==============================] - 3s 6ms/step - loss: 0.1962 - accuracy: 0.9295\n",
            "Epoch 141/150\n",
            "469/469 [==============================] - 2s 5ms/step - loss: 0.1956 - accuracy: 0.9296\n",
            "Epoch 142/150\n",
            "469/469 [==============================] - 2s 5ms/step - loss: 0.1947 - accuracy: 0.9300\n",
            "Epoch 143/150\n",
            "469/469 [==============================] - 2s 5ms/step - loss: 0.1940 - accuracy: 0.9302\n",
            "Epoch 144/150\n",
            "469/469 [==============================] - 2s 5ms/step - loss: 0.1932 - accuracy: 0.9307\n",
            "Epoch 145/150\n",
            "469/469 [==============================] - 2s 5ms/step - loss: 0.1924 - accuracy: 0.9310\n",
            "Epoch 146/150\n",
            "469/469 [==============================] - 2s 5ms/step - loss: 0.1917 - accuracy: 0.9312\n",
            "Epoch 147/150\n",
            "469/469 [==============================] - 2s 5ms/step - loss: 0.1909 - accuracy: 0.9316\n",
            "Epoch 148/150\n",
            "469/469 [==============================] - 2s 5ms/step - loss: 0.1901 - accuracy: 0.9318\n",
            "Epoch 149/150\n",
            "469/469 [==============================] - 2s 5ms/step - loss: 0.1894 - accuracy: 0.9319\n",
            "Epoch 150/150\n",
            "469/469 [==============================] - 2s 5ms/step - loss: 0.1886 - accuracy: 0.9323\n"
          ]
        }
      ]
    },
    {
      "cell_type": "code",
      "metadata": {
        "id": "9kaJs9S6_pmA",
        "outputId": "ef03ae81-7638-4607-a3b1-7d3c80a94ffb",
        "colab": {
          "base_uri": "https://localhost:8080/",
          "height": 966
        }
      },
      "source": [
        "plt.figure(1, figsize=(10,8))\n",
        "plt.plot(trHistory.history['accuracy'], 'b-o')\n",
        "#plt.plot(trHistory.history['loss'])\n",
        "plt.grid(True)\n",
        "# plt.xlabel('Epoch #')\n",
        "plt.ylabel(\"Accuracy\")\n",
        "\n",
        "plt.figure(2, figsize=(10,8))\n",
        "plt.plot(trHistory.history['loss'],'r-s')\n",
        "plt.grid(True)\n",
        "plt.xlabel('Epoch #')\n",
        "plt.ylabel(\"Loss\")\n",
        "plt.show()"
      ],
      "execution_count": null,
      "outputs": [
        {
          "output_type": "display_data",
          "data": {
            "text/plain": [
              "<Figure size 720x576 with 1 Axes>"
            ],
            "image/png": "[encoded data removed]"
          },
          "metadata": {
            "needs_background": "light"
          }
        },
        {
          "output_type": "display_data",
          "data": {
            "text/plain": [
              "<Figure size 720x576 with 1 Axes>"
            ],
            "image/png": "[encoded data removed]"
          },
          "metadata": {
            "needs_background": "light"
          }
        }
      ]
    },
    {
      "cell_type": "code",
      "metadata": {
        "id": "biwE7uJ9Au-U",
        "outputId": "2fa816d8-50f9-4698-f413-90d649dd2e5c",
        "colab": {
          "base_uri": "https://localhost:8080/"
        }
      },
      "source": [
        "tPrediction = model.predict(tImages) # output is a matrix of probabilities where each row corresponds to an image in the Test Set\n",
        "idCount = 0\n",
        "nErrs = 0\n",
        "for _ in tPrediction:\n",
        "  predictedLabel = np.argmax(_)\n",
        "  if predictedLabel != tLabels[idCount]:\n",
        "     nErrs += 1\n",
        "  idCount += 1\n",
        "\n",
        "errRate = nErrs / float(np.shape(tImages)[0])\n",
        "print(\"Prediction Error = %f\" %errRate)"
      ],
      "execution_count": null,
      "outputs": [
        {
          "output_type": "stream",
          "name": "stdout",
          "text": [
            "Prediction Error = 0.117200\n"
          ]
        }
      ]
    },
    {
      "cell_type": "markdown",
      "metadata": {
        "id": "nX2cfDkfVtxK"
      },
      "source": [
        "##Summary\n",
        "\n",
        "In a Single-Layer implementation, we apply logistic regression directly on pixels of input images. With this network, we achieve classification error of ~$19\\%$. In a Multi-Layer implementation, we apply two ReLu layers on pixels of input images prior to applying logistic regression. With this network, we achieve classification error of ~$12\\%$.\n",
        "\n",
        "Single-layer implementation uses a $784$ weight-matrix while Multi-Layer implementation uses a $784 \\times 128 \\times 32 \\times 10 $ weight-matrix, i.e., a total of $> 32$ million weights. With a factor of $40000$ more weights, we achieve an improvement of $6%$ in classification error rate."
      ]
    }
  ]
}